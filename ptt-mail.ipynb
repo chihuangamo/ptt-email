{
 "cells": [
  {
   "cell_type": "code",
   "execution_count": 2,
   "metadata": {},
   "outputs": [
    {
     "name": "stdout",
     "output_type": "stream",
     "text": [
      "['[討論] 《ScreenMania》LINE群組定期開放收人', '[討論] 驚魂記看到最後笑出來正常嗎？', '[討論] 1/2的魔法的哭點是？', '[討論] 真實事件改編電影的人物', 'Re: [討論] 真的有人看電影看到睡著？', '[討論] 若不是同一個編劇.我覺得大概會被告抄襲']\n"
     ]
    }
   ],
   "source": [
    "import ssl\n",
    "ssl._create_default_https_context = ssl._create_unverified_context\n",
    "\n",
    "import urllib.request as req\n",
    "\n",
    "src = (\"https://www.ptt.cc/bbs/movie/index.html\")\n",
    "\n",
    "request = req.Request(src, headers={\n",
    "    \"User-Agent\":\"Mozilla/5.0 (Macintosh; Intel Mac OS X 10_15_3) AppleWebKit/537.36 (KHTML, like Gecko) Chrome/83.0.4103.116 Safari/537.36\"\n",
    "})\n",
    "\n",
    "with req.urlopen(request) as response: \n",
    "    data = response.read().decode(\"utf-8\") \n",
    "\n",
    "import bs4 \n",
    "root = bs4.BeautifulSoup(data, \"html.parser\") \n",
    "titles = root.find_all(\"div\", class_=\"title\")\n",
    " \n",
    "all_title = [] #建立一個空的list，等等把標題丟進去\n",
    "for title in titles:\n",
    "    if title.a != None and \"討論\" in title.a.string: \n",
    "        all_title.append(title.a.string) # 把標題丟進all_title這個list\n",
    "print(all_title) # 印出來看看有啥"
   ]
  },
  {
   "cell_type": "code",
   "execution_count": 5,
   "metadata": {},
   "outputs": [
    {
     "name": "stdout",
     "output_type": "stream",
     "text": [
      "[討論] 《ScreenMania》LINE群組定期開放收人\n",
      "[討論] 驚魂記看到最後笑出來正常嗎？\n",
      "[討論] 1/2的魔法的哭點是？\n",
      "[討論] 真實事件改編電影的人物\n",
      "Re: [討論] 真的有人看電影看到睡著？\n",
      "[討論] 若不是同一個編劇.我覺得大概會被告抄襲\n"
     ]
    }
   ],
   "source": [
    "all_title_for_mail = \"\\n\".join(all_title) # 把list裡的東西用換行符號隔開成string，就可以當成郵件內容\n",
    "print(all_title_for_mail)"
   ]
  },
  {
   "cell_type": "code",
   "execution_count": 16,
   "metadata": {
    "scrolled": true
   },
   "outputs": [],
   "source": [
    "import email.message\n",
    "import smtplib\n",
    "\n",
    "account = # 你ㄉ帳號\n",
    "password = # 你ㄉ密碼\n",
    "\n",
    "msg = email.message.EmailMessage()\n",
    "msg[\"From\"] = account\n",
    "msg[\"To\"] = account\n",
    "msg[\"Subject\"] = \"您要的PTT更新來ㄌ\"\n",
    "msg.set_content(all_title_for_mail)\n",
    "\n",
    "\n",
    "server = smtplib.SMTP_SSL(\"smtp.gmail.com\", 465)\n",
    "server.login(account, password) \n",
    "# 要先把google低安全性應用程式存取權設定為\"開啟\" \n",
    "# https://myaccount.google.com/u/1/lesssecureapps\n",
    "server.send_message(msg)\n",
    "server.close()"
   ]
  }
 ],
 "metadata": {
  "kernelspec": {
   "display_name": "Python 3",
   "language": "python",
   "name": "python3"
  },
  "language_info": {
   "codemirror_mode": {
    "name": "ipython",
    "version": 3
   },
   "file_extension": ".py",
   "mimetype": "text/x-python",
   "name": "python",
   "nbconvert_exporter": "python",
   "pygments_lexer": "ipython3",
   "version": "3.7.3"
  },
  "toc": {
   "base_numbering": 1,
   "nav_menu": {},
   "number_sections": true,
   "sideBar": true,
   "skip_h1_title": false,
   "title_cell": "Table of Contents",
   "title_sidebar": "Contents",
   "toc_cell": false,
   "toc_position": {},
   "toc_section_display": true,
   "toc_window_display": false
  }
 },
 "nbformat": 4,
 "nbformat_minor": 2
}
